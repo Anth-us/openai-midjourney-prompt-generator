{
 "cells": [
  {
   "cell_type": "code",
   "execution_count": null,
   "metadata": {},
   "outputs": [],
   "source": [
    "# OpenAI API setup.\n",
    "\n",
    "import openai\n",
    "\n",
    "# Fetch OpenAI API key from file.\n",
    "with open('openai_api_key.txt', 'r') as f:\n",
    "    openai.api_key = f.read().strip()"
   ]
  },
  {
   "cell_type": "code",
   "execution_count": null,
   "metadata": {},
   "outputs": [],
   "source": [
    "# Read the system prompt from system_prompt.txt\n",
    "\n",
    "import textwrap\n",
    "\n",
    "# Define the default base prompt and user input prompt\n",
    "with open('system_prompt.txt', 'r') as f:\n",
    "    system_prompt = f.read().strip()\n",
    "\n",
    "# Print the combined prompt, wrapped\n",
    "print(\"System prompt:\")\n",
    "print(textwrap.fill(system_prompt, width=80))"
   ]
  },
  {
   "cell_type": "code",
   "execution_count": null,
   "metadata": {},
   "outputs": [],
   "source": [
    "# Define the function to be called when the button is clicked.\n",
    "\n",
    "import pyperclip\n",
    "\n",
    "def generate_prompt(description):\n",
    "    print(\"Image description:\")\n",
    "    print(description)\n",
    "\n",
    "    response = openai.ChatCompletion.create(\n",
    "        model = \"gpt-3.5-turbo\",\n",
    "        temperature = 1.3,\n",
    "        messages = [\n",
    "            {\"role\": \"system\", \"content\": system_prompt},\n",
    "            {\"role\": \"user\", \"content\": description},\n",
    "        ])\n",
    "\n",
    "    assistant_reply = response['choices'][0]['message']['content'].strip()\n",
    "\n",
    "    wrapped_string = textwrap.fill(assistant_reply, width=80)\n",
    "    print(\"Generated Midjourney prompt:\")\n",
    "    print(wrapped_string + \"\\n\")\n",
    "\n",
    "    # Copy the prompt to the clipboard.\n",
    "    pyperclip.copy(assistant_reply)"
   ]
  },
  {
   "cell_type": "code",
   "execution_count": null,
   "metadata": {},
   "outputs": [],
   "source": [
    "# Display interactive UI for generating prompts.\n",
    "\n",
    "import ipywidgets as widgets\n",
    "from IPython.display import display\n",
    "\n",
    "# Define the event handler for the button click\n",
    "def on_button_click(button):\n",
    "    # Get the input text and call the generate_prompt function\n",
    "    generate_prompt(text_input.value)\n",
    "\n",
    "# Create the label, text input, and button widgets\n",
    "label = widgets.Label(\"Description of image for prompt:\")\n",
    "text_input = widgets.Text()\n",
    "button = widgets.Button(description=\"Generate\")\n",
    "\n",
    "# Set the event handler for the button click\n",
    "button.on_click(on_button_click)\n",
    "\n",
    "# Display the widgets\n",
    "display(label, text_input, button)\n"
   ]
  }
 ],
 "metadata": {
  "kernelspec": {
   "display_name": "default-vscode-jupyter",
   "language": "python",
   "name": "python3"
  },
  "language_info": {
   "codemirror_mode": {
    "name": "ipython",
    "version": 3
   },
   "file_extension": ".py",
   "mimetype": "text/x-python",
   "name": "python",
   "nbconvert_exporter": "python",
   "pygments_lexer": "ipython3",
   "version": "3.11.2"
  },
  "orig_nbformat": 4
 },
 "nbformat": 4,
 "nbformat_minor": 2
}
