{
 "cells": [
  {
   "cell_type": "code",
   "execution_count": 9,
   "metadata": {},
   "outputs": [
    {
     "name": "stdout",
     "output_type": "stream",
     "text": [
      "Requirement already satisfied: openai in /Users/work/anaconda3/lib/python3.10/site-packages (from -r requirements.txt (line 1)) (0.27.2)\n",
      "Requirement already satisfied: ipywidgets in /Users/work/anaconda3/lib/python3.10/site-packages (from -r requirements.txt (line 2)) (8.0.6)\n",
      "Requirement already satisfied: pyperclip in /Users/work/anaconda3/lib/python3.10/site-packages (from -r requirements.txt (line 3)) (1.8.2)\n",
      "Requirement already satisfied: textwrap3 in /Users/work/anaconda3/lib/python3.10/site-packages (from -r requirements.txt (line 4)) (0.9.2)\n",
      "Requirement already satisfied: aiohttp in /Users/work/anaconda3/lib/python3.10/site-packages (from openai->-r requirements.txt (line 1)) (3.8.4)\n",
      "Requirement already satisfied: requests>=2.20 in /Users/work/anaconda3/lib/python3.10/site-packages (from openai->-r requirements.txt (line 1)) (2.28.1)\n",
      "Requirement already satisfied: tqdm in /Users/work/anaconda3/lib/python3.10/site-packages (from openai->-r requirements.txt (line 1)) (4.65.0)\n",
      "Requirement already satisfied: widgetsnbextension~=4.0.7 in /Users/work/anaconda3/lib/python3.10/site-packages (from ipywidgets->-r requirements.txt (line 2)) (4.0.7)\n",
      "Requirement already satisfied: ipython>=6.1.0 in /Users/work/anaconda3/lib/python3.10/site-packages (from ipywidgets->-r requirements.txt (line 2)) (8.12.0)\n",
      "Requirement already satisfied: traitlets>=4.3.1 in /Users/work/anaconda3/lib/python3.10/site-packages (from ipywidgets->-r requirements.txt (line 2)) (5.7.1)\n",
      "Requirement already satisfied: jupyterlab-widgets~=3.0.7 in /Users/work/anaconda3/lib/python3.10/site-packages (from ipywidgets->-r requirements.txt (line 2)) (3.0.7)\n",
      "Requirement already satisfied: ipykernel>=4.5.1 in /Users/work/anaconda3/lib/python3.10/site-packages (from ipywidgets->-r requirements.txt (line 2)) (6.22.0)\n",
      "Requirement already satisfied: psutil in /Users/work/anaconda3/lib/python3.10/site-packages (from ipykernel>=4.5.1->ipywidgets->-r requirements.txt (line 2)) (5.9.0)\n",
      "Requirement already satisfied: appnope in /Users/work/anaconda3/lib/python3.10/site-packages (from ipykernel>=4.5.1->ipywidgets->-r requirements.txt (line 2)) (0.1.3)\n",
      "Requirement already satisfied: tornado>=6.1 in /Users/work/anaconda3/lib/python3.10/site-packages (from ipykernel>=4.5.1->ipywidgets->-r requirements.txt (line 2)) (6.2)\n",
      "Requirement already satisfied: pyzmq>=20 in /Users/work/anaconda3/lib/python3.10/site-packages (from ipykernel>=4.5.1->ipywidgets->-r requirements.txt (line 2)) (25.0.2)\n",
      "Requirement already satisfied: nest-asyncio in /Users/work/anaconda3/lib/python3.10/site-packages (from ipykernel>=4.5.1->ipywidgets->-r requirements.txt (line 2)) (1.5.6)\n",
      "Requirement already satisfied: matplotlib-inline>=0.1 in /Users/work/anaconda3/lib/python3.10/site-packages (from ipykernel>=4.5.1->ipywidgets->-r requirements.txt (line 2)) (0.1.6)\n",
      "Requirement already satisfied: comm>=0.1.1 in /Users/work/anaconda3/lib/python3.10/site-packages (from ipykernel>=4.5.1->ipywidgets->-r requirements.txt (line 2)) (0.1.3)\n",
      "Requirement already satisfied: packaging in /Users/work/anaconda3/lib/python3.10/site-packages (from ipykernel>=4.5.1->ipywidgets->-r requirements.txt (line 2)) (23.0)\n",
      "Requirement already satisfied: debugpy>=1.6.5 in /Users/work/anaconda3/lib/python3.10/site-packages (from ipykernel>=4.5.1->ipywidgets->-r requirements.txt (line 2)) (1.6.6)\n",
      "Requirement already satisfied: jupyter-client>=6.1.12 in /Users/work/anaconda3/lib/python3.10/site-packages (from ipykernel>=4.5.1->ipywidgets->-r requirements.txt (line 2)) (8.1.0)\n",
      "Requirement already satisfied: jupyter-core!=5.0.*,>=4.12 in /Users/work/anaconda3/lib/python3.10/site-packages (from ipykernel>=4.5.1->ipywidgets->-r requirements.txt (line 2)) (5.3.0)\n",
      "Requirement already satisfied: pickleshare in /Users/work/anaconda3/lib/python3.10/site-packages (from ipython>=6.1.0->ipywidgets->-r requirements.txt (line 2)) (0.7.5)\n",
      "Requirement already satisfied: pygments>=2.4.0 in /Users/work/anaconda3/lib/python3.10/site-packages (from ipython>=6.1.0->ipywidgets->-r requirements.txt (line 2)) (2.14.0)\n",
      "Requirement already satisfied: backcall in /Users/work/anaconda3/lib/python3.10/site-packages (from ipython>=6.1.0->ipywidgets->-r requirements.txt (line 2)) (0.2.0)\n",
      "Requirement already satisfied: pexpect>4.3 in /Users/work/anaconda3/lib/python3.10/site-packages (from ipython>=6.1.0->ipywidgets->-r requirements.txt (line 2)) (4.8.0)\n",
      "Requirement already satisfied: prompt-toolkit!=3.0.37,<3.1.0,>=3.0.30 in /Users/work/anaconda3/lib/python3.10/site-packages (from ipython>=6.1.0->ipywidgets->-r requirements.txt (line 2)) (3.0.38)\n",
      "Requirement already satisfied: jedi>=0.16 in /Users/work/anaconda3/lib/python3.10/site-packages (from ipython>=6.1.0->ipywidgets->-r requirements.txt (line 2)) (0.18.2)\n",
      "Requirement already satisfied: stack-data in /Users/work/anaconda3/lib/python3.10/site-packages (from ipython>=6.1.0->ipywidgets->-r requirements.txt (line 2)) (0.6.2)\n",
      "Requirement already satisfied: decorator in /Users/work/anaconda3/lib/python3.10/site-packages (from ipython>=6.1.0->ipywidgets->-r requirements.txt (line 2)) (5.1.1)\n",
      "Requirement already satisfied: charset-normalizer<3,>=2 in /Users/work/anaconda3/lib/python3.10/site-packages (from requests>=2.20->openai->-r requirements.txt (line 1)) (2.0.4)\n",
      "Requirement already satisfied: idna<4,>=2.5 in /Users/work/anaconda3/lib/python3.10/site-packages (from requests>=2.20->openai->-r requirements.txt (line 1)) (3.4)\n",
      "Requirement already satisfied: certifi>=2017.4.17 in /Users/work/anaconda3/lib/python3.10/site-packages (from requests>=2.20->openai->-r requirements.txt (line 1)) (2022.12.7)\n",
      "Requirement already satisfied: urllib3<1.27,>=1.21.1 in /Users/work/anaconda3/lib/python3.10/site-packages (from requests>=2.20->openai->-r requirements.txt (line 1)) (1.26.15)\n",
      "Requirement already satisfied: async-timeout<5.0,>=4.0.0a3 in /Users/work/anaconda3/lib/python3.10/site-packages (from aiohttp->openai->-r requirements.txt (line 1)) (4.0.2)\n",
      "Requirement already satisfied: attrs>=17.3.0 in /Users/work/anaconda3/lib/python3.10/site-packages (from aiohttp->openai->-r requirements.txt (line 1)) (22.1.0)\n",
      "Requirement already satisfied: yarl<2.0,>=1.0 in /Users/work/anaconda3/lib/python3.10/site-packages (from aiohttp->openai->-r requirements.txt (line 1)) (1.8.2)\n",
      "Requirement already satisfied: frozenlist>=1.1.1 in /Users/work/anaconda3/lib/python3.10/site-packages (from aiohttp->openai->-r requirements.txt (line 1)) (1.3.3)\n",
      "Requirement already satisfied: multidict<7.0,>=4.5 in /Users/work/anaconda3/lib/python3.10/site-packages (from aiohttp->openai->-r requirements.txt (line 1)) (6.0.4)\n",
      "Requirement already satisfied: aiosignal>=1.1.2 in /Users/work/anaconda3/lib/python3.10/site-packages (from aiohttp->openai->-r requirements.txt (line 1)) (1.3.1)\n",
      "Requirement already satisfied: parso<0.9.0,>=0.8.0 in /Users/work/anaconda3/lib/python3.10/site-packages (from jedi>=0.16->ipython>=6.1.0->ipywidgets->-r requirements.txt (line 2)) (0.8.3)\n",
      "Requirement already satisfied: python-dateutil>=2.8.2 in /Users/work/anaconda3/lib/python3.10/site-packages (from jupyter-client>=6.1.12->ipykernel>=4.5.1->ipywidgets->-r requirements.txt (line 2)) (2.8.2)\n",
      "Requirement already satisfied: platformdirs>=2.5 in /Users/work/anaconda3/lib/python3.10/site-packages (from jupyter-core!=5.0.*,>=4.12->ipykernel>=4.5.1->ipywidgets->-r requirements.txt (line 2)) (2.5.2)\n",
      "Requirement already satisfied: ptyprocess>=0.5 in /Users/work/anaconda3/lib/python3.10/site-packages (from pexpect>4.3->ipython>=6.1.0->ipywidgets->-r requirements.txt (line 2)) (0.7.0)\n",
      "Requirement already satisfied: wcwidth in /Users/work/anaconda3/lib/python3.10/site-packages (from prompt-toolkit!=3.0.37,<3.1.0,>=3.0.30->ipython>=6.1.0->ipywidgets->-r requirements.txt (line 2)) (0.2.6)\n",
      "Requirement already satisfied: executing>=1.2.0 in /Users/work/anaconda3/lib/python3.10/site-packages (from stack-data->ipython>=6.1.0->ipywidgets->-r requirements.txt (line 2)) (1.2.0)\n",
      "Requirement already satisfied: asttokens>=2.1.0 in /Users/work/anaconda3/lib/python3.10/site-packages (from stack-data->ipython>=6.1.0->ipywidgets->-r requirements.txt (line 2)) (2.2.1)\n",
      "Requirement already satisfied: pure-eval in /Users/work/anaconda3/lib/python3.10/site-packages (from stack-data->ipython>=6.1.0->ipywidgets->-r requirements.txt (line 2)) (0.2.2)\n",
      "Requirement already satisfied: six in /Users/work/anaconda3/lib/python3.10/site-packages (from asttokens>=2.1.0->stack-data->ipython>=6.1.0->ipywidgets->-r requirements.txt (line 2)) (1.16.0)\n"
     ]
    }
   ],
   "source": [
    "# install all required PIP packages\n",
    "!pip install -r requirements.txt\n",
    "\n",
    "# load all required libraries\n",
    "import re\n",
    "import unittest\n",
    "import openai\n",
    "import ipywidgets\n",
    "import pyperclip\n",
    "import textwrap\n",
    "import ipywidgets\n",
    "from IPython.display import display, clear_output"
   ]
  },
  {
   "cell_type": "code",
   "execution_count": 3,
   "metadata": {
    "scrolled": true
   },
   "outputs": [
    {
     "data": {
      "application/vnd.jupyter.widget-view+json": {
       "model_id": "f2b4f5f980d447e0b0414225b756e31e",
       "version_major": 2,
       "version_minor": 0
      },
      "text/plain": [
       "Label(value='Description of image for prompt:')"
      ]
     },
     "metadata": {},
     "output_type": "display_data"
    },
    {
     "data": {
      "application/vnd.jupyter.widget-view+json": {
       "model_id": "87db0d7bafc844ebbddc2be3fcf14d88",
       "version_major": 2,
       "version_minor": 0
      },
      "text/plain": [
       "Text(value='')"
      ]
     },
     "metadata": {},
     "output_type": "display_data"
    },
    {
     "data": {
      "application/vnd.jupyter.widget-view+json": {
       "model_id": "2eadad09869148c683739c2e369ef146",
       "version_major": 2,
       "version_minor": 0
      },
      "text/plain": [
       "Button(description='Generate', style=ButtonStyle())"
      ]
     },
     "metadata": {},
     "output_type": "display_data"
    },
    {
     "data": {
      "application/vnd.jupyter.widget-view+json": {
       "model_id": "68e6f6258df6417e9475b433ed266448",
       "version_major": 2,
       "version_minor": 0
      },
      "text/plain": [
       "Button(description='New Prompt', style=ButtonStyle())"
      ]
     },
     "metadata": {},
     "output_type": "display_data"
    },
    {
     "name": "stdout",
     "output_type": "stream",
     "text": [
      "Image description:\n",
      "A flaming rainbow pirate ship.\n",
      "\n"
     ]
    },
    {
     "ename": "NameError",
     "evalue": "name 'system_prompt' is not defined",
     "output_type": "error",
     "traceback": [
      "\u001b[0;31m---------------------------------------------------------------------------\u001b[0m",
      "\u001b[0;31mNameError\u001b[0m                                 Traceback (most recent call last)",
      "Cell \u001b[0;32mIn[3], line 6\u001b[0m, in \u001b[0;36mon_generate_button_click\u001b[0;34m(button)\u001b[0m\n\u001b[1;32m      4\u001b[0m \u001b[38;5;28;01mdef\u001b[39;00m \u001b[38;5;21mon_generate_button_click\u001b[39m(button):\n\u001b[1;32m      5\u001b[0m     \u001b[38;5;66;03m# Get the input text and call the generate_prompt function\u001b[39;00m\n\u001b[0;32m----> 6\u001b[0m     \u001b[43mgenerate_prompt\u001b[49m\u001b[43m(\u001b[49m\u001b[43mtext_input\u001b[49m\u001b[38;5;241;43m.\u001b[39;49m\u001b[43mvalue\u001b[49m\u001b[43m)\u001b[49m\n",
      "Cell \u001b[0;32mIn[5], line 11\u001b[0m, in \u001b[0;36mgenerate_prompt\u001b[0;34m(description)\u001b[0m\n\u001b[1;32m      4\u001b[0m \u001b[38;5;28mprint\u001b[39m(\u001b[38;5;124m\"\u001b[39m\u001b[38;5;124mImage description:\u001b[39m\u001b[38;5;124m\"\u001b[39m)\n\u001b[1;32m      5\u001b[0m \u001b[38;5;28mprint\u001b[39m(description \u001b[38;5;241m+\u001b[39m \u001b[38;5;124m\"\u001b[39m\u001b[38;5;130;01m\\n\u001b[39;00m\u001b[38;5;124m\"\u001b[39m)\n\u001b[1;32m      7\u001b[0m response \u001b[38;5;241m=\u001b[39m openai\u001b[38;5;241m.\u001b[39mChatCompletion\u001b[38;5;241m.\u001b[39mcreate(\n\u001b[1;32m      8\u001b[0m     model \u001b[38;5;241m=\u001b[39m \u001b[38;5;124m\"\u001b[39m\u001b[38;5;124mgpt-3.5-turbo\u001b[39m\u001b[38;5;124m\"\u001b[39m,\n\u001b[1;32m      9\u001b[0m     temperature \u001b[38;5;241m=\u001b[39m \u001b[38;5;241m0.8\u001b[39m,\n\u001b[1;32m     10\u001b[0m     messages \u001b[38;5;241m=\u001b[39m [\n\u001b[0;32m---> 11\u001b[0m         {\u001b[38;5;124m\"\u001b[39m\u001b[38;5;124mrole\u001b[39m\u001b[38;5;124m\"\u001b[39m: \u001b[38;5;124m\"\u001b[39m\u001b[38;5;124msystem\u001b[39m\u001b[38;5;124m\"\u001b[39m, \u001b[38;5;124m\"\u001b[39m\u001b[38;5;124mcontent\u001b[39m\u001b[38;5;124m\"\u001b[39m: \u001b[43msystem_prompt\u001b[49m},\n\u001b[1;32m     12\u001b[0m         {\u001b[38;5;124m\"\u001b[39m\u001b[38;5;124mrole\u001b[39m\u001b[38;5;124m\"\u001b[39m: \u001b[38;5;124m\"\u001b[39m\u001b[38;5;124muser\u001b[39m\u001b[38;5;124m\"\u001b[39m, \u001b[38;5;124m\"\u001b[39m\u001b[38;5;124mcontent\u001b[39m\u001b[38;5;124m\"\u001b[39m: description},\n\u001b[1;32m     13\u001b[0m     ])\n\u001b[1;32m     15\u001b[0m assistant_reply \u001b[38;5;241m=\u001b[39m response[\u001b[38;5;124m'\u001b[39m\u001b[38;5;124mchoices\u001b[39m\u001b[38;5;124m'\u001b[39m][\u001b[38;5;241m0\u001b[39m][\u001b[38;5;124m'\u001b[39m\u001b[38;5;124mmessage\u001b[39m\u001b[38;5;124m'\u001b[39m][\u001b[38;5;124m'\u001b[39m\u001b[38;5;124mcontent\u001b[39m\u001b[38;5;124m'\u001b[39m]\u001b[38;5;241m.\u001b[39mstrip()\n\u001b[1;32m     17\u001b[0m \u001b[38;5;28mprint\u001b[39m(\u001b[38;5;124m\"\u001b[39m\u001b[38;5;124mGenerated Midjourney prompt:\u001b[39m\u001b[38;5;124m\"\u001b[39m)\n",
      "\u001b[0;31mNameError\u001b[0m: name 'system_prompt' is not defined"
     ]
    },
    {
     "name": "stdout",
     "output_type": "stream",
     "text": [
      "Image description:\n",
      "A flaming rainbow pirate ship.\n",
      "\n",
      "Generated Midjourney prompt:\n",
      "A pirate ship with a flaming rainbow sail and hull sailing on choppy seas.\n",
      "Elements: The ship has a jolly roger flag with a skull and crossbones. The ship\n",
      "is surrounded by seagulls. The captain has a red bandana and a gold hoop\n",
      "earring. The ship has cannons on the deck. There is a treasure chest on the\n",
      "deck. --chaos 66 --no signature\n",
      "\n",
      "Processed prompt:\n",
      "A pirate ship with a flaming rainbow sail and hull sailing on choppy seas. The\n",
      "ship has a jolly roger flag with a skull and crossbones. The ship is surrounded\n",
      "by seagulls. The captain has a red bandana and a gold hoop earring. The ship has\n",
      "cannons on the deck. There is a treasure chest on the deck. --chaos 66 --no\n",
      "signature\n",
      "\n"
     ]
    }
   ],
   "source": [
    "# Display interactive UI for generating prompts.\n",
    "\n",
    "# Define the event handler for the generate button click\n",
    "def on_generate_button_click(button):\n",
    "    # Get the input text and call the generate_prompt function\n",
    "    generate_prompt(text_input.value)\n",
    "\n",
    "# Define the event handler for the clear button click\n",
    "def on_clear_button_click(button):\n",
    "    # Clear the output of the cell\n",
    "    clear_output(wait=True)\n",
    "    # Redisplay the widgets\n",
    "    display(label, text_input, generate_button, clear_button)\n",
    "\n",
    "# Create the label, text input, and button widgets\n",
    "label = ipywidgets.Label(\"Description of image for prompt:\")\n",
    "text_input = ipywidgets.Text()\n",
    "generate_button = ipywidgets.Button(description=\"Generate\")\n",
    "clear_button = ipywidgets.Button(description=\"New Prompt\")\n",
    "\n",
    "# Set the event handlers for the button clicks\n",
    "generate_button.on_click(on_generate_button_click)\n",
    "clear_button.on_click(on_clear_button_click)\n",
    "\n",
    "# Display the widgets\n",
    "display(label, text_input, generate_button, clear_button)\n",
    "\n"
   ]
  },
  {
   "cell_type": "code",
   "execution_count": 4,
   "metadata": {},
   "outputs": [],
   "source": [
    "# OpenAI API setup.\n",
    "\n",
    "# Fetch OpenAI API key from file.\n",
    "with open('openai_api_key.txt', 'r') as f:\n",
    "    openai.api_key = f.read().strip()"
   ]
  },
  {
   "cell_type": "code",
   "execution_count": 10,
   "metadata": {},
   "outputs": [
    {
     "name": "stdout",
     "output_type": "stream",
     "text": [
      "System prompt:\n",
      "You are a prompt generator for the Midjourney AI image generation service.  Each\n",
      "of my requests will be a request for you to generate a prompt for the Midjourney\n",
      "AI image generation service.  Start each prompt with a sentence that starts with\n",
      "a noun phrase in proper English that describes the medium of the image in\n",
      "detail.  For example, \"A black-and-white street photograph of a...\", or \"An\n",
      "impressionist oil painting of a...\", or \"A children's book illustration of\n",
      "a...\", etc.  The full sentence should start with that noun phrase for the\n",
      "medium, and it should end with a noun phrase that describes the image in detail.\n",
      "The medium and the image should be compatible.  For example, if the user prompt\n",
      "is \"a person smiling\", then the medium should not be \"a landscape painting\",\n",
      "because a landscape painting is not a medium for a person smiling.  When you\n",
      "write the sentence, add details to the description of the image that the user\n",
      "did not provide in their prompt. For example, if the user says, \"a house\", then\n",
      "you might repharse that as \"a house with a red door and a white picket fence\".\n",
      "If the user says, \"a person\", then you might rephrase that as \"a person with a\n",
      "red shirt and blue jeans\".  Please add embellishing details.  Next, think about\n",
      "what type of image it is, and you will think of a list of elements for an image\n",
      "like that.  Try to think of at least five appropriate elements for the specific\n",
      "image that I asked for.  For example, if I ask for a portrait of a person, then\n",
      "you should think of elements like \"hair color\", \"eye color\", \"clothing\", etc.\n",
      "If I ask for a landscape, then you should think of elements like \"foreground\",\n",
      "\"background\", \"sky\", etc.  For each element, write a sentence in proper English\n",
      "that describes a specific example of that element in detail.  Embellish with a\n",
      "lot of specific details. For example, for the element \"eye color\", you might\n",
      "write a sentence like \"The person's eyes are blue, with a hint of green in the\n",
      "iris\".  Do not delimit each element with any kind of punctuation.  Do not\n",
      "separate each element by starting it with \"-The\" or anything like that.  Extra\n",
      "hyphens cause errors in midjourney prompts, so pleae do not include any\n",
      "unnecessary punctuation.  Aim for around 100 characters per element.  The\n",
      "details should be compatible with the medium and the image that you described in\n",
      "the first part of the prompt.  Please include the elements in order of\n",
      "imprtantance. The first element should be the most important element.  Do NOT\n",
      "start the list of elements with the word \"Elements:\".  Finally, include a list\n",
      "of Midjourney parameters at the end of the prompt. Always include the \"chaos\"\n",
      "paremeter by default, with a setting of 66.  The way to format that in the\n",
      "correct syntax for Midjourney is: \"--chaos 66\".  The \"--aspect\" parameter\n",
      "specifies the aspect ratio.  The default aspect ratio is 1:1, which is a square.\n",
      "If and only if I ask for a \"wide\" or \"landscape\" image, then please set the\n",
      "aspect ratio to \"3:2\", like this: \"--aspect 3:2\". If and only if I ask for a\n",
      "\"tall\" or \"portrait\" image, then please set the aspect ratio to \"2:3\", like\n",
      "this: \"--aspect 2:3\". If I don't specify an aspect ratio, then please do not\n",
      "include the \"--aspect\" parameter in the prompt. If I include any parameters that\n",
      "start with \"--\", then please include those parameters in the prompt.  For\n",
      "example, if I ask for \"--q 2\", then include that in the prompt.  If I say\n",
      "\"quality 2\" or \"quality:2\", then please include \"--q 2\" in the prompt.  Don't\n",
      "include \"tall\" or \"wide\" in the image description, because I intend those as a\n",
      "hint for the aspect ratio.  Do not say \"Elements:\" or \"Midjourney parameters:\"\n",
      "in the prompt.  Always end every prompt with: \"--no signature\"\n"
     ]
    }
   ],
   "source": [
    "# Read the system prompt from system_prompt.txt\n",
    "\n",
    "# Define the default base prompt and user input prompt\n",
    "with open('system_prompt.txt', 'r') as f:\n",
    "    system_prompt = f.read().strip()\n",
    "\n",
    "# Print the combined prompt, wrapped\n",
    "print(\"System prompt:\")\n",
    "print(textwrap.fill(system_prompt, width=80))"
   ]
  },
  {
   "cell_type": "code",
   "execution_count": 5,
   "metadata": {},
   "outputs": [],
   "source": [
    "# Define the function to be called when the button is clicked.\n",
    "\n",
    "def generate_prompt(description):\n",
    "    print(\"Image description:\")\n",
    "    print(description + \"\\n\")\n",
    "\n",
    "    response = openai.ChatCompletion.create(\n",
    "        model = \"gpt-3.5-turbo\",\n",
    "        temperature = 0.8,\n",
    "        messages = [\n",
    "            {\"role\": \"system\", \"content\": system_prompt},\n",
    "            {\"role\": \"user\", \"content\": description},\n",
    "        ])\n",
    "\n",
    "    assistant_reply = response['choices'][0]['message']['content'].strip()\n",
    "\n",
    "    print(\"Generated Midjourney prompt:\")\n",
    "    print(textwrap.fill(assistant_reply, width=80) + \"\\n\")\n",
    "\n",
    "    print(\"Processed prompt:\")\n",
    "    processed_prompt = process_prompt(assistant_reply)\n",
    "    print(textwrap.fill(processed_prompt, width=80) + \"\\n\")\n",
    "\n",
    "    # Copy the prompt to the clipboard.\n",
    "    pyperclip.copy(processed_prompt)\n",
    "\n",
    "# Process the generated prompt to remove things that cause problems for Midjourney.\n",
    "def process_prompt(prompt):\n",
    "    # Remove stray hyphens surrounded by whitespace\n",
    "    prompt = re.sub(r'\\s-\\s', ' ', prompt)\n",
    "    \n",
    "    # Remove hyphens at the beginning of words but not from parameters\n",
    "    prompt = re.sub(r'(?<=\\s)-(?=[^-])', '', prompt)\n",
    "\n",
    "    # Remove \"Elements:\" and \"Midjourney parameters:\" phrases\n",
    "    prompt = re.sub(r'(Elements:|Midjourney parameters:)', '', prompt)\n",
    "    \n",
    "    # Remove invalid parameters.\n",
    "    valid_params = [\"chaos\", \"aspect\", \"quality\", \"style\", \"no\"]\n",
    "    prompt = remove_invalid_parameters(prompt, valid_params)\n",
    "\n",
    "    return prompt\n"
   ]
  },
  {
   "cell_type": "code",
   "execution_count": 7,
   "metadata": {},
   "outputs": [
    {
     "name": "stderr",
     "output_type": "stream",
     "text": [
      ".\n",
      "----------------------------------------------------------------------\n",
      "Ran 1 test in 0.001s\n",
      "\n",
      "OK\n"
     ]
    },
    {
     "data": {
      "text/plain": [
       "<unittest.main.TestProgram at 0x7fe728a1ce80>"
      ]
     },
     "execution_count": 7,
     "metadata": {},
     "output_type": "execute_result"
    }
   ],
   "source": [
    "# Remove parameters that GPT-3 generates but are not valid for Midjourney.\n",
    "\n",
    "def remove_invalid_parameters(s, allowed_params):\n",
    "    s = re.sub(r'--(\\w+)\\s+(\\S+)', lambda m: f\"--{m.group(1)} {m.group(2)}\" if m.group(1) in allowed_params else \"\", s)\n",
    "    s = re.sub(r'\\s+', ' ', s)\n",
    "    return s.strip()\n",
    "\n",
    "class TestRemoveInvalidParameters(unittest.TestCase):\n",
    "    maxDiff = None\n",
    "\n",
    "    def test_remove_invalid_parameters(self):\n",
    "        input_text = '''\\\n",
    "A sepia-toned vintage postcard from Miami in the 1920s, featuring a bustling\n",
    "beach scene with palm trees and parasols.   Elements: People in bathing suits,\n",
    "wooden boardwalk, old-fashioned beach umbrellas, a distant pier, vintage cars\n",
    "parked along the beach.   --aspect 3:2 --chaos 66 --q 2 --no signature\n",
    "'''\n",
    "\n",
    "        expected_output = '''\\\n",
    "A sepia-toned vintage postcard from Miami in the 1920s, featuring a bustling\n",
    "beach scene with palm trees and parasols. Elements: People in bathing suits,\n",
    "wooden boardwalk, old-fashioned beach umbrellas, a distant pier, vintage cars\n",
    "parked along the beach. --aspect 3:2 --chaos 66 --no signature\n",
    "'''\n",
    "        expected_output = ' '.join(expected_output.splitlines())\n",
    "\n",
    "        allowed_params = ['chaos', 'aspect', 'style', 'quality', 'no']\n",
    "        cleaned_s = remove_invalid_parameters(input_text, allowed_params)\n",
    "\n",
    "        self.assertEqual(cleaned_s, expected_output)\n",
    "\n",
    "# Run the test case\n",
    "unittest.main(argv=[''], exit=False)\n",
    "\n"
   ]
  },
  {
   "cell_type": "code",
   "execution_count": null,
   "metadata": {},
   "outputs": [],
   "source": []
  }
 ],
 "metadata": {
  "kernelspec": {
   "display_name": "Python 3 (ipykernel)",
   "language": "python",
   "name": "python3"
  },
  "language_info": {
   "codemirror_mode": {
    "name": "ipython",
    "version": 3
   },
   "file_extension": ".py",
   "mimetype": "text/x-python",
   "name": "python",
   "nbconvert_exporter": "python",
   "pygments_lexer": "ipython3",
   "version": "3.10.9"
  }
 },
 "nbformat": 4,
 "nbformat_minor": 2
}
